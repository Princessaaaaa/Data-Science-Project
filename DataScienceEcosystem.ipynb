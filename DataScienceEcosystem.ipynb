{
 "cells": [
  {
   "cell_type": "markdown",
   "id": "7463fb81-df49-4fa8-8495-abf1ed4b8705",
   "metadata": {},
   "source": [
    "# Data Science Tools and Ecosystems\n"
   ]
  },
  {
   "cell_type": "markdown",
   "id": "982bca79-9e04-4865-abe7-a0384b2e365c",
   "metadata": {},
   "source": [
    "In this notebook, Data Science Tools and Ecosystems are summarized."
   ]
  },
  {
   "cell_type": "markdown",
   "id": "56aeac70-c0c0-4fdf-abb6-8b0da303f198",
   "metadata": {},
   "source": [
    "Some of the popular languages that Data Scientists use are:\n",
    "1. R\n",
    "2. Python\n",
    "3. SQL"
   ]
  },
  {
   "cell_type": "markdown",
   "id": "1adf2ff6-cc5c-493a-9d4b-5ca450b35d6b",
   "metadata": {},
   "source": [
    "Some of the commonly used libraries used by Data Scientists include:\n",
    "1. Pandas\n",
    "2. NumPy\n",
    "3. Matplotlib\n",
    "4. Seaborn\n",
    "5. Scikit-learn\n",
    "6. TensorFlow"
   ]
  },
  {
   "cell_type": "markdown",
   "id": "5607284a-b263-43fd-944c-a8d1d2740636",
   "metadata": {},
   "source": [
    " | Data Science Tools  |\n",
    " |---------------------|\n",
    " | Jupyter Notebook    |\n",
    " | RStudio             |\n",
    " | Python              |"
   ]
  },
  {
   "cell_type": "markdown",
   "id": "705e57d2-5d2a-4ca2-a162-72674db112e6",
   "metadata": {},
   "source": [
    "### Below are a few examples of evaluating arithmetic expressions in Python"
   ]
  },
  {
   "cell_type": "markdown",
   "id": "0dbc1973-dac4-41f3-8c2f-b5899f0abde3",
   "metadata": {},
   "source": [
    "| Name            | Symbol | Explanation                                 |\r\n",
    "|-----------------|--------|---------------------------------------------|\r\n",
    "| Addition        | +      | Adds two numbers together.                  |\r\n",
    "| Subtraction     | -      | Subtracts the second number from the first. |\r\n",
    "| Multiplication  | *      | Multiplies two numbers.                     |\r\n",
    "| Division        | /      | Divides the first number by the second.     |\r\n",
    "| Floor Division  | //     | Division that rounds down to the nearest integer. |\r\n",
    "| Exponentiation  | **     | Raises the first number to the power of the second. |\r\n",
    "| Modulus         | %      | Finds the remainder of division.            |\r\n"
   ]
  },
  {
   "cell_type": "code",
   "execution_count": 7,
   "id": "1cc3431f-8011-4757-8f32-abf639b72c67",
   "metadata": {},
   "outputs": [
    {
     "data": {
      "text/plain": [
       "17"
      ]
     },
     "execution_count": 7,
     "metadata": {},
     "output_type": "execute_result"
    }
   ],
   "source": [
    "#This a simple arithmetic expression to mutiply then add integers\n",
    "(3*4)+5"
   ]
  },
  {
   "cell_type": "code",
   "execution_count": 13,
   "id": "82472414-875d-43a9-9528-c7cb2d2cbe2e",
   "metadata": {},
   "outputs": [
    {
     "name": "stdout",
     "output_type": "stream",
     "text": [
      "3.3333333333333335 hours\n"
     ]
    }
   ],
   "source": [
    "#This will convert 200 minutes to hours by diving by 60\n",
    "minutes = 200\n",
    "conversion = minutes/60\n",
    "print(conversion,'hours')"
   ]
  },
  {
   "cell_type": "markdown",
   "id": "f9679156-3a9c-4408-bdda-a37ae3a24ddf",
   "metadata": {},
   "source": [
    "**Objectives:**\n",
    "- List popular languages for Data Science\n",
    "- Understand arithmetic expressions used in Python\n",
    "- Perform simple arithmetic expression using Python\n",
    "- Create a simple expression to convert minutes to hours using Python"
   ]
  },
  {
   "cell_type": "markdown",
   "id": "3c76f646-9d8e-4392-a246-6e7819a1a8c6",
   "metadata": {},
   "source": [
    "## Author\n",
    "Ahmed Said"
   ]
  },
  {
   "cell_type": "code",
   "execution_count": null,
   "id": "fe680d22-817f-45ae-aec6-e331d5b02379",
   "metadata": {},
   "outputs": [],
   "source": []
  },
  {
   "cell_type": "code",
   "execution_count": null,
   "id": "a6fc9b94-21de-4179-b254-12c8ce7e058c",
   "metadata": {},
   "outputs": [],
   "source": []
  }
 ],
 "metadata": {
  "kernelspec": {
   "display_name": "Python 3 (ipykernel)",
   "language": "python",
   "name": "python3"
  },
  "language_info": {
   "codemirror_mode": {
    "name": "ipython",
    "version": 3
   },
   "file_extension": ".py",
   "mimetype": "text/x-python",
   "name": "python",
   "nbconvert_exporter": "python",
   "pygments_lexer": "ipython3",
   "version": "3.12.4"
  }
 },
 "nbformat": 4,
 "nbformat_minor": 5
}
